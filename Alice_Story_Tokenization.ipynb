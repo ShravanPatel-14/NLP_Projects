{
 "cells": [
  {
   "cell_type": "code",
   "execution_count": 1,
   "id": "22ccbe7c-ecb7-4474-844c-a41b48c63d57",
   "metadata": {},
   "outputs": [],
   "source": [
    "from nltk.tokenize import sent_tokenize"
   ]
  },
  {
   "cell_type": "code",
   "execution_count": 2,
   "id": "ebd73b91-9aea-478f-b779-164f6fa1cfef",
   "metadata": {},
   "outputs": [],
   "source": [
    "text=\"\"\n",
    "with open(r\"F:\\Downloads\\Alice story.txt\") as fh:\n",
    "    text = fh.readlines()\n",
    "    data= fh.read().replace('\\n', '')"
   ]
  },
  {
   "cell_type": "code",
   "execution_count": 3,
   "id": "011c5070-a21c-4367-abb9-a405af75caa0",
   "metadata": {},
   "outputs": [],
   "source": [
    "text_a=[tx.replace('\\n','') for tx in text]"
   ]
  },
  {
   "cell_type": "code",
   "execution_count": 4,
   "id": "b3aa7dcd-1fbe-43fd-a484-519b02dafdfb",
   "metadata": {},
   "outputs": [
    {
     "data": {
      "text/plain": [
       "['Alice was beginning to get very tired of sitting by her sister',\n",
       " 'on the bank, and of having nothing to do:  once or twice she had',\n",
       " 'peeped into the book her sister was reading, but it had no',\n",
       " \"pictures or conversations in it, `and what is the use of a book,'\",\n",
       " \"thought Alice `without pictures or conversation?'\",\n",
       " '',\n",
       " '  So she was considering in her own mind (as well as she could,',\n",
       " 'for the hot day made her feel very sleepy and stupid), whether',\n",
       " 'the pleasure of making a daisy-chain would be worth the trouble',\n",
       " 'of getting up and picking the daisies, when suddenly a White',\n",
       " 'Rabbit with pink eyes ran close by her.',\n",
       " '',\n",
       " '  There was nothing so VERY remarkable in that; nor did Alice',\n",
       " 'think it so VERY much out of the way to hear the Rabbit say to',\n",
       " \"itself, `Oh dear!  Oh dear!  I shall be late!'  (when she thought\",\n",
       " 'it over afterwards, it occurred to her that she ought to have',\n",
       " 'wondered at this, but at the time it all seemed quite natural);',\n",
       " 'but when the Rabbit actually TOOK A WATCH OUT OF ITS WAISTCOAT-',\n",
       " 'POCKET, and looked at it, and then hurried on, Alice started to',\n",
       " 'her feet, for it flashed across her mind that she had never',\n",
       " 'before seen a rabbit with either a waistcoat-pocket, or a watch to',\n",
       " 'take out of it, and burning with curiosity, she ran across the',\n",
       " 'field after it, and fortunately was just in time to see it pop',\n",
       " 'down a large rabbit-hole under the hedge.',\n",
       " '',\n",
       " '  In another moment down went Alice after it, never once',\n",
       " 'considering how in the world she was to get out again.',\n",
       " '',\n",
       " '  The rabbit-hole went straight on like a tunnel for some way,',\n",
       " 'and then dipped suddenly down, so suddenly that Alice had not a',\n",
       " 'moment to think about stopping herself before she found herself',\n",
       " 'falling down a very deep well.',\n",
       " '',\n",
       " '  Either the well was very deep, or she fell very slowly, for she',\n",
       " 'had plenty of time as she went down to look about her and to',\n",
       " 'wonder what was going to happen next.  First, she tried to look',\n",
       " 'down and make out what she was coming to, but it was too dark to',\n",
       " 'see anything; then she looked at the sides of the well, and',\n",
       " 'noticed that they were filled with cupboards and book-shelves;',\n",
       " 'here and there she saw maps and pictures hung upon pegs.  She',\n",
       " 'took down a jar from one of the shelves as she passed; it was',\n",
       " \"labelled `ORANGE MARMALADE', but to her great disappointment it\",\n",
       " 'was empty:  she did not like to drop the jar for fear of killing',\n",
       " 'somebody, so managed to put it into one of the cupboards as she',\n",
       " 'fell past it.',\n",
       " '',\n",
       " \"  `Well!' thought Alice to herself, `after such a fall as this, I\",\n",
       " \"shall think nothing of tumbling down stairs!  How brave they'll\",\n",
       " \"all think me at home!  Why, I wouldn't say anything about it,\",\n",
       " \"even if I fell off the top of the house!' (Which was very likely\",\n",
       " 'true.)',\n",
       " '',\n",
       " '  Down, down, down.  Would the fall NEVER come to an end!  `I',\n",
       " \"wonder how many miles I've fallen by this time?' she said aloud.\",\n",
       " '`I must be getting somewhere near the centre of the earth.  Let',\n",
       " \"me see:  that would be four thousand miles down, I think--' (for,\",\n",
       " 'you see, Alice had learnt several things of this sort in her',\n",
       " 'lessons in the schoolroom, and though this was not a VERY good',\n",
       " 'opportunity for showing off her knowledge, as there was no one to',\n",
       " 'listen to her, still it was good practice to say it over) `--yes,',\n",
       " \"that's about the right distance--but then I wonder what Latitude\",\n",
       " \"or Longitude I've got to?'  (Alice had no idea what Latitude was,\",\n",
       " 'or Longitude either, but thought they were nice grand words to',\n",
       " 'say.)',\n",
       " '',\n",
       " '  Presently she began again.  `I wonder if I shall fall right',\n",
       " \"THROUGH the earth!  How funny it'll seem to come out among the\",\n",
       " 'people that walk with their heads downward!  The Antipathies, I',\n",
       " \"think--' (she was rather glad there WAS no one listening, this\",\n",
       " \"time, as it didn't sound at all the right word) `--but I shall\",\n",
       " 'have to ask them what the name of the country is, you know.',\n",
       " \"Please, Ma'am, is this New Zealand or Australia?' (and she tried\",\n",
       " \"to curtsey as she spoke--fancy CURTSEYING as you're falling\",\n",
       " 'through the air!  Do you think you could manage it?)  `And what',\n",
       " \"an ignorant little girl she'll think me for asking!  No, it'll\",\n",
       " \"never do to ask:  perhaps I shall see it written up somewhere.'\",\n",
       " '',\n",
       " '  Down, down, down.  There was nothing else to do, so Alice soon',\n",
       " \"began talking again.  `Dinah'll miss me very much to-night, I\",\n",
       " \"should think!'  (Dinah was the cat.)  `I hope they'll remember\",\n",
       " 'her saucer of milk at tea-time.  Dinah my dear!  I wish you were',\n",
       " \"down here with me!  There are no mice in the air, I'm afraid, but\",\n",
       " \"you might catch a bat, and that's very like a mouse, you know.\",\n",
       " \"But do cats eat bats, I wonder?'  And here Alice began to get\",\n",
       " 'rather sleepy, and went on saying to herself, in a dreamy sort of',\n",
       " \"way, `Do cats eat bats?  Do cats eat bats?' and sometimes, `Do\",\n",
       " \"bats eat cats?' for, you see, as she couldn't answer either\",\n",
       " \"question, it didn't much matter which way she put it.  She felt\",\n",
       " 'that she was dozing off, and had just begun to dream that she',\n",
       " 'was walking hand in hand with Dinah, and saying to her very',\n",
       " 'earnestly, `Now, Dinah, tell me the truth:  did you ever eat a',\n",
       " \"bat?' when suddenly, thump! thump! down she came upon a heap of\",\n",
       " 'sticks and dry leaves, and the fall was over.',\n",
       " '',\n",
       " '  Alice was not a bit hurt, and she jumped up on to her feet in a',\n",
       " 'moment:  she looked up, but it was all dark overhead; before her',\n",
       " 'was another long passage, and the White Rabbit was still in',\n",
       " 'sight, hurrying down it.  There was not a moment to be lost:',\n",
       " 'away went Alice like the wind, and was just in time to hear it',\n",
       " 'say, as it turned a corner, `Oh my ears and whiskers, how late',\n",
       " \"it's getting!'  She was close behind it when she turned the\",\n",
       " 'corner, but the Rabbit was no longer to be seen:  she found',\n",
       " 'herself in a long, low hall, which was lit up by a row of lamps',\n",
       " 'hanging from the roof.',\n",
       " '',\n",
       " '  There were doors all round the hall, but they were all locked;',\n",
       " 'and when Alice had been all the way down one side and up the',\n",
       " 'other, trying every door, she walked sadly down the middle,',\n",
       " 'wondering how she was ever to get out again.',\n",
       " '',\n",
       " '  Suddenly she came upon a little three-legged table, all made of',\n",
       " 'solid glass; there was nothing on it except a tiny golden key,',\n",
       " \"and Alice's first thought was that it might belong to one of the\",\n",
       " 'doors of the hall; but, alas! either the locks were too large, or',\n",
       " 'the key was too small, but at any rate it would not open any of',\n",
       " 'them.  However, on the second time round, she came upon a low',\n",
       " 'curtain she had not noticed before, and behind it was a little',\n",
       " 'door about fifteen inches high:  she tried the little golden key',\n",
       " 'in the lock, and to her great delight it fitted!']"
      ]
     },
     "execution_count": 4,
     "metadata": {},
     "output_type": "execute_result"
    }
   ],
   "source": [
    "text_a"
   ]
  },
  {
   "cell_type": "code",
   "execution_count": 5,
   "id": "3487b020-5228-4c66-b668-d6ad7ee354b6",
   "metadata": {},
   "outputs": [],
   "source": [
    "\n",
    "text_all=\"\""
   ]
  },
  {
   "cell_type": "code",
   "execution_count": 6,
   "id": "fee845e1-1041-4423-b214-bafec5bd5f78",
   "metadata": {},
   "outputs": [],
   "source": [
    "\n",
    "text_all1=text_all.join(text_a)"
   ]
  },
  {
   "cell_type": "code",
   "execution_count": 7,
   "id": "328c28fd-53fc-4577-a6e7-7922120f58b1",
   "metadata": {},
   "outputs": [
    {
     "data": {
      "text/plain": [
       "\"Alice was beginning to get very tired of sitting by her sisteron the bank, and of having nothing to do:  once or twice she hadpeeped into the book her sister was reading, but it had nopictures or conversations in it, `and what is the use of a book,'thought Alice `without pictures or conversation?'  So she was considering in her own mind (as well as she could,for the hot day made her feel very sleepy and stupid), whetherthe pleasure of making a daisy-chain would be worth the troubleof getting up and picking the daisies, when suddenly a WhiteRabbit with pink eyes ran close by her.  There was nothing so VERY remarkable in that; nor did Alicethink it so VERY much out of the way to hear the Rabbit say toitself, `Oh dear!  Oh dear!  I shall be late!'  (when she thoughtit over afterwards, it occurred to her that she ought to havewondered at this, but at the time it all seemed quite natural);but when the Rabbit actually TOOK A WATCH OUT OF ITS WAISTCOAT-POCKET, and looked at it, and then hurried on, Alice started toher feet, for it flashed across her mind that she had neverbefore seen a rabbit with either a waistcoat-pocket, or a watch totake out of it, and burning with curiosity, she ran across thefield after it, and fortunately was just in time to see it popdown a large rabbit-hole under the hedge.  In another moment down went Alice after it, never onceconsidering how in the world she was to get out again.  The rabbit-hole went straight on like a tunnel for some way,and then dipped suddenly down, so suddenly that Alice had not amoment to think about stopping herself before she found herselffalling down a very deep well.  Either the well was very deep, or she fell very slowly, for shehad plenty of time as she went down to look about her and towonder what was going to happen next.  First, she tried to lookdown and make out what she was coming to, but it was too dark tosee anything; then she looked at the sides of the well, andnoticed that they were filled with cupboards and book-shelves;here and there she saw maps and pictures hung upon pegs.  Shetook down a jar from one of the shelves as she passed; it waslabelled `ORANGE MARMALADE', but to her great disappointment itwas empty:  she did not like to drop the jar for fear of killingsomebody, so managed to put it into one of the cupboards as shefell past it.  `Well!' thought Alice to herself, `after such a fall as this, Ishall think nothing of tumbling down stairs!  How brave they'llall think me at home!  Why, I wouldn't say anything about it,even if I fell off the top of the house!' (Which was very likelytrue.)  Down, down, down.  Would the fall NEVER come to an end!  `Iwonder how many miles I've fallen by this time?' she said aloud.`I must be getting somewhere near the centre of the earth.  Letme see:  that would be four thousand miles down, I think--' (for,you see, Alice had learnt several things of this sort in herlessons in the schoolroom, and though this was not a VERY goodopportunity for showing off her knowledge, as there was no one tolisten to her, still it was good practice to say it over) `--yes,that's about the right distance--but then I wonder what Latitudeor Longitude I've got to?'  (Alice had no idea what Latitude was,or Longitude either, but thought they were nice grand words tosay.)  Presently she began again.  `I wonder if I shall fall rightTHROUGH the earth!  How funny it'll seem to come out among thepeople that walk with their heads downward!  The Antipathies, Ithink--' (she was rather glad there WAS no one listening, thistime, as it didn't sound at all the right word) `--but I shallhave to ask them what the name of the country is, you know.Please, Ma'am, is this New Zealand or Australia?' (and she triedto curtsey as she spoke--fancy CURTSEYING as you're fallingthrough the air!  Do you think you could manage it?)  `And whatan ignorant little girl she'll think me for asking!  No, it'llnever do to ask:  perhaps I shall see it written up somewhere.'  Down, down, down.  There was nothing else to do, so Alice soonbegan talking again.  `Dinah'll miss me very much to-night, Ishould think!'  (Dinah was the cat.)  `I hope they'll rememberher saucer of milk at tea-time.  Dinah my dear!  I wish you weredown here with me!  There are no mice in the air, I'm afraid, butyou might catch a bat, and that's very like a mouse, you know.But do cats eat bats, I wonder?'  And here Alice began to getrather sleepy, and went on saying to herself, in a dreamy sort ofway, `Do cats eat bats?  Do cats eat bats?' and sometimes, `Dobats eat cats?' for, you see, as she couldn't answer eitherquestion, it didn't much matter which way she put it.  She feltthat she was dozing off, and had just begun to dream that shewas walking hand in hand with Dinah, and saying to her veryearnestly, `Now, Dinah, tell me the truth:  did you ever eat abat?' when suddenly, thump! thump! down she came upon a heap ofsticks and dry leaves, and the fall was over.  Alice was not a bit hurt, and she jumped up on to her feet in amoment:  she looked up, but it was all dark overhead; before herwas another long passage, and the White Rabbit was still insight, hurrying down it.  There was not a moment to be lost:away went Alice like the wind, and was just in time to hear itsay, as it turned a corner, `Oh my ears and whiskers, how lateit's getting!'  She was close behind it when she turned thecorner, but the Rabbit was no longer to be seen:  she foundherself in a long, low hall, which was lit up by a row of lampshanging from the roof.  There were doors all round the hall, but they were all locked;and when Alice had been all the way down one side and up theother, trying every door, she walked sadly down the middle,wondering how she was ever to get out again.  Suddenly she came upon a little three-legged table, all made ofsolid glass; there was nothing on it except a tiny golden key,and Alice's first thought was that it might belong to one of thedoors of the hall; but, alas! either the locks were too large, orthe key was too small, but at any rate it would not open any ofthem.  However, on the second time round, she came upon a lowcurtain she had not noticed before, and behind it was a littledoor about fifteen inches high:  she tried the little golden keyin the lock, and to her great delight it fitted!\""
      ]
     },
     "execution_count": 7,
     "metadata": {},
     "output_type": "execute_result"
    }
   ],
   "source": [
    "text_all1"
   ]
  },
  {
   "cell_type": "code",
   "execution_count": 8,
   "id": "307419cc-4ead-4e27-956d-a1d28cecd702",
   "metadata": {},
   "outputs": [
    {
     "name": "stdout",
     "output_type": "stream",
     "text": [
      "Requirement already satisfied: nltk in c:\\users\\sanja\\anaconda3\\lib\\site-packages (3.9.1)\n",
      "Requirement already satisfied: click in c:\\users\\sanja\\anaconda3\\lib\\site-packages (from nltk) (8.1.7)\n",
      "Requirement already satisfied: joblib in c:\\users\\sanja\\anaconda3\\lib\\site-packages (from nltk) (1.4.2)\n",
      "Requirement already satisfied: regex>=2021.8.3 in c:\\users\\sanja\\anaconda3\\lib\\site-packages (from nltk) (2024.9.11)\n",
      "Requirement already satisfied: tqdm in c:\\users\\sanja\\anaconda3\\lib\\site-packages (from nltk) (4.66.5)\n",
      "Requirement already satisfied: colorama in c:\\users\\sanja\\anaconda3\\lib\\site-packages (from click->nltk) (0.4.6)\n"
     ]
    }
   ],
   "source": [
    "!pip install nltk"
   ]
  },
  {
   "cell_type": "code",
   "execution_count": 9,
   "id": "183fd226-fd17-4345-bce4-9a5b9e3c6b72",
   "metadata": {},
   "outputs": [],
   "source": [
    "import nltk\n",
    "from nltk import sent_tokenize"
   ]
  },
  {
   "cell_type": "code",
   "execution_count": 10,
   "id": "fe72153e-d5b1-48d2-84f5-d6d3e97d3ad1",
   "metadata": {},
   "outputs": [
    {
     "name": "stderr",
     "output_type": "stream",
     "text": [
      "[nltk_data] Downloading package punkt_tab to\n",
      "[nltk_data]     C:\\Users\\sanja\\AppData\\Roaming\\nltk_data...\n",
      "[nltk_data]   Package punkt_tab is already up-to-date!\n"
     ]
    },
    {
     "data": {
      "text/plain": [
       "True"
      ]
     },
     "execution_count": 10,
     "metadata": {},
     "output_type": "execute_result"
    }
   ],
   "source": [
    "import nltk\n",
    "nltk.download('punkt_tab')"
   ]
  },
  {
   "cell_type": "code",
   "execution_count": 11,
   "id": "70004ca3-87ba-4404-b6e5-0567be67d0b0",
   "metadata": {},
   "outputs": [],
   "source": [
    "sent_tokenize_list=sent_tokenize(text_all1)"
   ]
  },
  {
   "cell_type": "code",
   "execution_count": 12,
   "id": "393fba33-a2df-4039-88e5-6cc6894147ea",
   "metadata": {},
   "outputs": [
    {
     "data": {
      "text/plain": [
       "[\"Alice was beginning to get very tired of sitting by her sisteron the bank, and of having nothing to do:  once or twice she hadpeeped into the book her sister was reading, but it had nopictures or conversations in it, `and what is the use of a book,'thought Alice `without pictures or conversation?'\",\n",
       " 'So she was considering in her own mind (as well as she could,for the hot day made her feel very sleepy and stupid), whetherthe pleasure of making a daisy-chain would be worth the troubleof getting up and picking the daisies, when suddenly a WhiteRabbit with pink eyes ran close by her.',\n",
       " 'There was nothing so VERY remarkable in that; nor did Alicethink it so VERY much out of the way to hear the Rabbit say toitself, `Oh dear!',\n",
       " 'Oh dear!',\n",
       " \"I shall be late!'\",\n",
       " '(when she thoughtit over afterwards, it occurred to her that she ought to havewondered at this, but at the time it all seemed quite natural);but when the Rabbit actually TOOK A WATCH OUT OF ITS WAISTCOAT-POCKET, and looked at it, and then hurried on, Alice started toher feet, for it flashed across her mind that she had neverbefore seen a rabbit with either a waistcoat-pocket, or a watch totake out of it, and burning with curiosity, she ran across thefield after it, and fortunately was just in time to see it popdown a large rabbit-hole under the hedge.',\n",
       " 'In another moment down went Alice after it, never onceconsidering how in the world she was to get out again.',\n",
       " 'The rabbit-hole went straight on like a tunnel for some way,and then dipped suddenly down, so suddenly that Alice had not amoment to think about stopping herself before she found herselffalling down a very deep well.',\n",
       " 'Either the well was very deep, or she fell very slowly, for shehad plenty of time as she went down to look about her and towonder what was going to happen next.',\n",
       " 'First, she tried to lookdown and make out what she was coming to, but it was too dark tosee anything; then she looked at the sides of the well, andnoticed that they were filled with cupboards and book-shelves;here and there she saw maps and pictures hung upon pegs.',\n",
       " \"Shetook down a jar from one of the shelves as she passed; it waslabelled `ORANGE MARMALADE', but to her great disappointment itwas empty:  she did not like to drop the jar for fear of killingsomebody, so managed to put it into one of the cupboards as shefell past it.\",\n",
       " \"`Well!'\",\n",
       " 'thought Alice to herself, `after such a fall as this, Ishall think nothing of tumbling down stairs!',\n",
       " \"How brave they'llall think me at home!\",\n",
       " \"Why, I wouldn't say anything about it,even if I fell off the top of the house!'\",\n",
       " '(Which was very likelytrue.)',\n",
       " 'Down, down, down.',\n",
       " 'Would the fall NEVER come to an end!',\n",
       " \"`Iwonder how many miles I've fallen by this time?'\",\n",
       " 'she said aloud.`I must be getting somewhere near the centre of the earth.',\n",
       " \"Letme see:  that would be four thousand miles down, I think--' (for,you see, Alice had learnt several things of this sort in herlessons in the schoolroom, and though this was not a VERY goodopportunity for showing off her knowledge, as there was no one tolisten to her, still it was good practice to say it over) `--yes,that's about the right distance--but then I wonder what Latitudeor Longitude I've got to?'\",\n",
       " '(Alice had no idea what Latitude was,or Longitude either, but thought they were nice grand words tosay.)',\n",
       " 'Presently she began again.',\n",
       " '`I wonder if I shall fall rightTHROUGH the earth!',\n",
       " \"How funny it'll seem to come out among thepeople that walk with their heads downward!\",\n",
       " \"The Antipathies, Ithink--' (she was rather glad there WAS no one listening, thistime, as it didn't sound at all the right word) `--but I shallhave to ask them what the name of the country is, you know.Please, Ma'am, is this New Zealand or Australia?'\",\n",
       " \"(and she triedto curtsey as she spoke--fancy CURTSEYING as you're fallingthrough the air!\",\n",
       " 'Do you think you could manage it?)',\n",
       " \"`And whatan ignorant little girl she'll think me for asking!\",\n",
       " \"No, it'llnever do to ask:  perhaps I shall see it written up somewhere.'\",\n",
       " 'Down, down, down.',\n",
       " 'There was nothing else to do, so Alice soonbegan talking again.',\n",
       " \"`Dinah'll miss me very much to-night, Ishould think!'\",\n",
       " '(Dinah was the cat.)',\n",
       " \"`I hope they'll rememberher saucer of milk at tea-time.\",\n",
       " 'Dinah my dear!',\n",
       " 'I wish you weredown here with me!',\n",
       " \"There are no mice in the air, I'm afraid, butyou might catch a bat, and that's very like a mouse, you know.But do cats eat bats, I wonder?'\",\n",
       " 'And here Alice began to getrather sleepy, and went on saying to herself, in a dreamy sort ofway, `Do cats eat bats?',\n",
       " \"Do cats eat bats?'\",\n",
       " \"and sometimes, `Dobats eat cats?'\",\n",
       " \"for, you see, as she couldn't answer eitherquestion, it didn't much matter which way she put it.\",\n",
       " \"She feltthat she was dozing off, and had just begun to dream that shewas walking hand in hand with Dinah, and saying to her veryearnestly, `Now, Dinah, tell me the truth:  did you ever eat abat?'\",\n",
       " 'when suddenly, thump!',\n",
       " 'thump!',\n",
       " 'down she came upon a heap ofsticks and dry leaves, and the fall was over.',\n",
       " 'Alice was not a bit hurt, and she jumped up on to her feet in amoment:  she looked up, but it was all dark overhead; before herwas another long passage, and the White Rabbit was still insight, hurrying down it.',\n",
       " \"There was not a moment to be lost:away went Alice like the wind, and was just in time to hear itsay, as it turned a corner, `Oh my ears and whiskers, how lateit's getting!'\",\n",
       " 'She was close behind it when she turned thecorner, but the Rabbit was no longer to be seen:  she foundherself in a long, low hall, which was lit up by a row of lampshanging from the roof.',\n",
       " 'There were doors all round the hall, but they were all locked;and when Alice had been all the way down one side and up theother, trying every door, she walked sadly down the middle,wondering how she was ever to get out again.',\n",
       " \"Suddenly she came upon a little three-legged table, all made ofsolid glass; there was nothing on it except a tiny golden key,and Alice's first thought was that it might belong to one of thedoors of the hall; but, alas!\",\n",
       " 'either the locks were too large, orthe key was too small, but at any rate it would not open any ofthem.',\n",
       " 'However, on the second time round, she came upon a lowcurtain she had not noticed before, and behind it was a littledoor about fifteen inches high:  she tried the little golden keyin the lock, and to her great delight it fitted!']"
      ]
     },
     "execution_count": 12,
     "metadata": {},
     "output_type": "execute_result"
    }
   ],
   "source": [
    "sent_tokenize_list"
   ]
  },
  {
   "cell_type": "code",
   "execution_count": 13,
   "id": "6bcc8513-bd0a-46ec-9be9-09a3652fa073",
   "metadata": {},
   "outputs": [],
   "source": [
    "from nltk.tokenize import word_tokenize"
   ]
  },
  {
   "cell_type": "code",
   "execution_count": 14,
   "id": "ce9e0902-d50d-41df-8ccc-478d5e7d9863",
   "metadata": {},
   "outputs": [
    {
     "data": {
      "text/plain": [
       "['Alice',\n",
       " 'was',\n",
       " 'beginning',\n",
       " 'to',\n",
       " 'get',\n",
       " 'very',\n",
       " 'tired',\n",
       " 'of',\n",
       " 'sitting',\n",
       " 'by',\n",
       " 'her',\n",
       " 'sisteron',\n",
       " 'the',\n",
       " 'bank',\n",
       " ',',\n",
       " 'and',\n",
       " 'of',\n",
       " 'having',\n",
       " 'nothing',\n",
       " 'to',\n",
       " 'do',\n",
       " ':',\n",
       " 'once',\n",
       " 'or',\n",
       " 'twice',\n",
       " 'she',\n",
       " 'hadpeeped',\n",
       " 'into',\n",
       " 'the',\n",
       " 'book',\n",
       " 'her',\n",
       " 'sister',\n",
       " 'was',\n",
       " 'reading',\n",
       " ',',\n",
       " 'but',\n",
       " 'it',\n",
       " 'had',\n",
       " 'nopictures',\n",
       " 'or',\n",
       " 'conversations',\n",
       " 'in',\n",
       " 'it',\n",
       " ',',\n",
       " '`',\n",
       " 'and',\n",
       " 'what',\n",
       " 'is',\n",
       " 'the',\n",
       " 'use',\n",
       " 'of',\n",
       " 'a',\n",
       " 'book',\n",
       " ',',\n",
       " \"'thought\",\n",
       " 'Alice',\n",
       " '`',\n",
       " 'without',\n",
       " 'pictures',\n",
       " 'or',\n",
       " 'conversation',\n",
       " '?',\n",
       " \"'\"]"
      ]
     },
     "execution_count": 14,
     "metadata": {},
     "output_type": "execute_result"
    }
   ],
   "source": [
    "word_tokenize(sent_tokenize_list[0])"
   ]
  },
  {
   "cell_type": "code",
   "execution_count": 15,
   "id": "1526d5a3-8948-45dc-8dca-e6ad7dfeb11e",
   "metadata": {},
   "outputs": [],
   "source": [
    "\n",
    "from nltk.stem.porter import PorterStemmer"
   ]
  },
  {
   "cell_type": "code",
   "execution_count": 16,
   "id": "940ddbbe-45c0-4552-a793-4bb27fd1e6d2",
   "metadata": {},
   "outputs": [],
   "source": [
    "word_tokens=word_tokenize(sent_tokenize_list[0])"
   ]
  },
  {
   "cell_type": "code",
   "execution_count": 17,
   "id": "971f20de-4e13-43bc-bb46-11e186cd966f",
   "metadata": {},
   "outputs": [
    {
     "data": {
      "text/plain": [
       "['alic',\n",
       " 'wa',\n",
       " 'begin',\n",
       " 'to',\n",
       " 'get',\n",
       " 'veri',\n",
       " 'tire',\n",
       " 'of',\n",
       " 'sit',\n",
       " 'by',\n",
       " 'her',\n",
       " 'sisteron',\n",
       " 'the',\n",
       " 'bank',\n",
       " ',',\n",
       " 'and',\n",
       " 'of',\n",
       " 'have',\n",
       " 'noth',\n",
       " 'to',\n",
       " 'do',\n",
       " ':',\n",
       " 'onc',\n",
       " 'or',\n",
       " 'twice',\n",
       " 'she',\n",
       " 'hadpeep',\n",
       " 'into',\n",
       " 'the',\n",
       " 'book',\n",
       " 'her',\n",
       " 'sister',\n",
       " 'wa',\n",
       " 'read',\n",
       " ',',\n",
       " 'but',\n",
       " 'it',\n",
       " 'had',\n",
       " 'nopictur',\n",
       " 'or',\n",
       " 'convers',\n",
       " 'in',\n",
       " 'it',\n",
       " ',',\n",
       " '`',\n",
       " 'and',\n",
       " 'what',\n",
       " 'is',\n",
       " 'the',\n",
       " 'use',\n",
       " 'of',\n",
       " 'a',\n",
       " 'book',\n",
       " ',',\n",
       " \"'thought\",\n",
       " 'alic',\n",
       " '`',\n",
       " 'without',\n",
       " 'pictur',\n",
       " 'or',\n",
       " 'convers',\n",
       " '?',\n",
       " \"'\"]"
      ]
     },
     "execution_count": 17,
     "metadata": {},
     "output_type": "execute_result"
    }
   ],
   "source": [
    "port_stemmer=PorterStemmer()\n",
    "[port_stemmer.stem(test) for test in word_tokens]"
   ]
  },
  {
   "cell_type": "code",
   "execution_count": 18,
   "id": "b2f8fc81-c88a-4fd8-84b5-ad8c80d9daf9",
   "metadata": {},
   "outputs": [],
   "source": [
    "\n",
    "from nltk.stem.lancaster import LancasterStemmer"
   ]
  },
  {
   "cell_type": "code",
   "execution_count": 19,
   "id": "b1b3a321-f0c1-420c-9526-a080c061101d",
   "metadata": {},
   "outputs": [],
   "source": [
    " lancaster_stemmer = LancasterStemmer()"
   ]
  },
  {
   "cell_type": "code",
   "execution_count": 20,
   "id": "14a7c4a7-0af0-4cdb-8727-1f29cc436fb1",
   "metadata": {},
   "outputs": [
    {
     "data": {
      "text/plain": [
       "['al',\n",
       " 'was',\n",
       " 'begin',\n",
       " 'to',\n",
       " 'get',\n",
       " 'very',\n",
       " 'tir',\n",
       " 'of',\n",
       " 'sit',\n",
       " 'by',\n",
       " 'her',\n",
       " 'sisteron',\n",
       " 'the',\n",
       " 'bank',\n",
       " ',',\n",
       " 'and',\n",
       " 'of',\n",
       " 'hav',\n",
       " 'noth',\n",
       " 'to',\n",
       " 'do',\n",
       " ':',\n",
       " 'ont',\n",
       " 'or',\n",
       " 'twic',\n",
       " 'she',\n",
       " 'hadpeep',\n",
       " 'into',\n",
       " 'the',\n",
       " 'book',\n",
       " 'her',\n",
       " 'sist',\n",
       " 'was',\n",
       " 'read',\n",
       " ',',\n",
       " 'but',\n",
       " 'it',\n",
       " 'had',\n",
       " 'nopict',\n",
       " 'or',\n",
       " 'convers',\n",
       " 'in',\n",
       " 'it',\n",
       " ',',\n",
       " '`',\n",
       " 'and',\n",
       " 'what',\n",
       " 'is',\n",
       " 'the',\n",
       " 'us',\n",
       " 'of',\n",
       " 'a',\n",
       " 'book',\n",
       " ',',\n",
       " \"'thought\",\n",
       " 'al',\n",
       " '`',\n",
       " 'without',\n",
       " 'pict',\n",
       " 'or',\n",
       " 'convers',\n",
       " '?',\n",
       " \"'\"]"
      ]
     },
     "execution_count": 20,
     "metadata": {},
     "output_type": "execute_result"
    }
   ],
   "source": [
    "\n",
    "[lancaster_stemmer.stem(test) for test in word_tokens]"
   ]
  },
  {
   "cell_type": "code",
   "execution_count": 21,
   "id": "f7cec8e4-05e0-431d-be5e-873446ba6ce4",
   "metadata": {},
   "outputs": [],
   "source": [
    "from nltk.stem import SnowballStemmer"
   ]
  },
  {
   "cell_type": "code",
   "execution_count": 22,
   "id": "2913c86a-6c16-475a-86c6-01d286922933",
   "metadata": {},
   "outputs": [],
   "source": [
    "snowball_stemmer=SnowballStemmer(\"english\")"
   ]
  },
  {
   "cell_type": "code",
   "execution_count": 23,
   "id": "97866845-ccb6-4c36-a27f-5181261b324c",
   "metadata": {},
   "outputs": [
    {
     "data": {
      "text/plain": [
       "['alic',\n",
       " 'was',\n",
       " 'begin',\n",
       " 'to',\n",
       " 'get',\n",
       " 'veri',\n",
       " 'tire',\n",
       " 'of',\n",
       " 'sit',\n",
       " 'by',\n",
       " 'her',\n",
       " 'sisteron',\n",
       " 'the',\n",
       " 'bank',\n",
       " ',',\n",
       " 'and',\n",
       " 'of',\n",
       " 'have',\n",
       " 'noth',\n",
       " 'to',\n",
       " 'do',\n",
       " ':',\n",
       " 'onc',\n",
       " 'or',\n",
       " 'twice',\n",
       " 'she',\n",
       " 'hadpeep',\n",
       " 'into',\n",
       " 'the',\n",
       " 'book',\n",
       " 'her',\n",
       " 'sister',\n",
       " 'was',\n",
       " 'read',\n",
       " ',',\n",
       " 'but',\n",
       " 'it',\n",
       " 'had',\n",
       " 'nopictur',\n",
       " 'or',\n",
       " 'convers',\n",
       " 'in',\n",
       " 'it',\n",
       " ',',\n",
       " '`',\n",
       " 'and',\n",
       " 'what',\n",
       " 'is',\n",
       " 'the',\n",
       " 'use',\n",
       " 'of',\n",
       " 'a',\n",
       " 'book',\n",
       " ',',\n",
       " 'thought',\n",
       " 'alic',\n",
       " '`',\n",
       " 'without',\n",
       " 'pictur',\n",
       " 'or',\n",
       " 'convers',\n",
       " '?',\n",
       " \"'\"]"
      ]
     },
     "execution_count": 23,
     "metadata": {},
     "output_type": "execute_result"
    }
   ],
   "source": [
    "[snowball_stemmer.stem(test) for test in word_tokens]"
   ]
  },
  {
   "cell_type": "code",
   "execution_count": 24,
   "id": "a0d87d3d-1ef4-49d4-85f8-68bf106a8385",
   "metadata": {},
   "outputs": [],
   "source": [
    "from nltk import WordNetLemmatizer\n"
   ]
  },
  {
   "cell_type": "code",
   "execution_count": 25,
   "id": "1233e66e-d16d-4243-a6e1-b8ee6db09dd1",
   "metadata": {},
   "outputs": [
    {
     "name": "stderr",
     "output_type": "stream",
     "text": [
      "[nltk_data] Downloading package wordnet to\n",
      "[nltk_data]     C:\\Users\\sanja\\AppData\\Roaming\\nltk_data...\n",
      "[nltk_data]   Package wordnet is already up-to-date!\n"
     ]
    },
    {
     "data": {
      "text/plain": [
       "True"
      ]
     },
     "execution_count": 25,
     "metadata": {},
     "output_type": "execute_result"
    }
   ],
   "source": [
    "nltk.download('wordnet')"
   ]
  },
  {
   "cell_type": "code",
   "execution_count": 26,
   "id": "de244f6e-e17e-4590-83b3-626294362c66",
   "metadata": {},
   "outputs": [],
   "source": [
    "wordnet_lemmatizer=WordNetLemmatizer()"
   ]
  },
  {
   "cell_type": "code",
   "execution_count": 27,
   "id": "38f75441-451f-4c2b-b257-767c777d31a4",
   "metadata": {},
   "outputs": [
    {
     "data": {
      "text/plain": [
       "['Alice',\n",
       " 'wa',\n",
       " 'beginning',\n",
       " 'to',\n",
       " 'get',\n",
       " 'very',\n",
       " 'tired',\n",
       " 'of',\n",
       " 'sitting',\n",
       " 'by',\n",
       " 'her',\n",
       " 'sisteron',\n",
       " 'the',\n",
       " 'bank',\n",
       " ',',\n",
       " 'and',\n",
       " 'of',\n",
       " 'having',\n",
       " 'nothing',\n",
       " 'to',\n",
       " 'do',\n",
       " ':',\n",
       " 'once',\n",
       " 'or',\n",
       " 'twice',\n",
       " 'she',\n",
       " 'hadpeeped',\n",
       " 'into',\n",
       " 'the',\n",
       " 'book',\n",
       " 'her',\n",
       " 'sister',\n",
       " 'wa',\n",
       " 'reading',\n",
       " ',',\n",
       " 'but',\n",
       " 'it',\n",
       " 'had',\n",
       " 'nopictures',\n",
       " 'or',\n",
       " 'conversation',\n",
       " 'in',\n",
       " 'it',\n",
       " ',',\n",
       " '`',\n",
       " 'and',\n",
       " 'what',\n",
       " 'is',\n",
       " 'the',\n",
       " 'use',\n",
       " 'of',\n",
       " 'a',\n",
       " 'book',\n",
       " ',',\n",
       " \"'thought\",\n",
       " 'Alice',\n",
       " '`',\n",
       " 'without',\n",
       " 'picture',\n",
       " 'or',\n",
       " 'conversation',\n",
       " '?',\n",
       " \"'\"]"
      ]
     },
     "execution_count": 27,
     "metadata": {},
     "output_type": "execute_result"
    }
   ],
   "source": [
    "[wordnet_lemmatizer.lemmatize(test) for test in word_tokens]"
   ]
  },
  {
   "cell_type": "code",
   "execution_count": 28,
   "id": "45d80f2b-cce0-41a7-adf8-8a9502c06a76",
   "metadata": {},
   "outputs": [
    {
     "name": "stdout",
     "output_type": "stream",
     "text": [
      "Requirement already satisfied: pywsd in c:\\users\\sanja\\anaconda3\\lib\\site-packages (1.2.5)\n",
      "Requirement already satisfied: nltk in c:\\users\\sanja\\anaconda3\\lib\\site-packages (from pywsd) (3.9.1)\n",
      "Requirement already satisfied: numpy in c:\\users\\sanja\\anaconda3\\lib\\site-packages (from pywsd) (1.26.4)\n",
      "Requirement already satisfied: pandas in c:\\users\\sanja\\anaconda3\\lib\\site-packages (from pywsd) (2.2.2)\n",
      "Requirement already satisfied: wn==0.0.23 in c:\\users\\sanja\\anaconda3\\lib\\site-packages (from pywsd) (0.0.23)\n",
      "Requirement already satisfied: six in c:\\users\\sanja\\anaconda3\\lib\\site-packages (from pywsd) (1.16.0)\n",
      "Requirement already satisfied: click in c:\\users\\sanja\\anaconda3\\lib\\site-packages (from nltk->pywsd) (8.1.7)\n",
      "Requirement already satisfied: joblib in c:\\users\\sanja\\anaconda3\\lib\\site-packages (from nltk->pywsd) (1.4.2)\n",
      "Requirement already satisfied: regex>=2021.8.3 in c:\\users\\sanja\\anaconda3\\lib\\site-packages (from nltk->pywsd) (2024.9.11)\n",
      "Requirement already satisfied: tqdm in c:\\users\\sanja\\anaconda3\\lib\\site-packages (from nltk->pywsd) (4.66.5)\n",
      "Requirement already satisfied: python-dateutil>=2.8.2 in c:\\users\\sanja\\anaconda3\\lib\\site-packages (from pandas->pywsd) (2.9.0.post0)\n",
      "Requirement already satisfied: pytz>=2020.1 in c:\\users\\sanja\\anaconda3\\lib\\site-packages (from pandas->pywsd) (2024.1)\n",
      "Requirement already satisfied: tzdata>=2022.7 in c:\\users\\sanja\\anaconda3\\lib\\site-packages (from pandas->pywsd) (2023.3)\n",
      "Requirement already satisfied: colorama in c:\\users\\sanja\\anaconda3\\lib\\site-packages (from click->nltk->pywsd) (0.4.6)\n"
     ]
    }
   ],
   "source": [
    "!pip install pywsd"
   ]
  },
  {
   "cell_type": "code",
   "execution_count": 29,
   "id": "58b76f00-22e0-42aa-9a03-7c2b175b4f2b",
   "metadata": {},
   "outputs": [
    {
     "name": "stderr",
     "output_type": "stream",
     "text": [
      "[nltk_data] Downloading package averaged_perceptron_tagger_eng to\n",
      "[nltk_data]     C:\\Users\\sanja\\AppData\\Roaming\\nltk_data...\n",
      "[nltk_data]   Package averaged_perceptron_tagger_eng is already up-to-\n",
      "[nltk_data]       date!\n"
     ]
    },
    {
     "data": {
      "text/plain": [
       "True"
      ]
     },
     "execution_count": 29,
     "metadata": {},
     "output_type": "execute_result"
    }
   ],
   "source": [
    "nltk.download('averaged_perceptron_tagger_eng')"
   ]
  },
  {
   "cell_type": "code",
   "execution_count": 30,
   "id": "c0f8b2e9-ae00-4e65-8fc7-73586cd9aff0",
   "metadata": {},
   "outputs": [
    {
     "name": "stderr",
     "output_type": "stream",
     "text": [
      "Warming up PyWSD (takes ~10 secs)... took 8.626959323883057 secs.\n"
     ]
    }
   ],
   "source": [
    "from pywsd.utils import lemmatize_sentence"
   ]
  },
  {
   "cell_type": "code",
   "execution_count": 31,
   "id": "ee1743e4-570b-4549-ae22-d8987639bd9d",
   "metadata": {},
   "outputs": [
    {
     "data": {
      "text/plain": [
       "['mary', 'leave', 'the', 'room']"
      ]
     },
     "execution_count": 31,
     "metadata": {},
     "output_type": "execute_result"
    }
   ],
   "source": [
    "lemmatize_sentence(\"Mary leaves the room\")"
   ]
  },
  {
   "cell_type": "code",
   "execution_count": 32,
   "id": "4a0f3d73-55b9-4554-9195-82f8c48f6ad9",
   "metadata": {},
   "outputs": [
    {
     "data": {
      "text/plain": [
       "['dew', 'drop', 'fall', 'from', 'the', 'leaf']"
      ]
     },
     "execution_count": 32,
     "metadata": {},
     "output_type": "execute_result"
    }
   ],
   "source": [
    "lemmatize_sentence('Dew drops fall from the leaves')"
   ]
  },
  {
   "cell_type": "code",
   "execution_count": 34,
   "id": "eb517a19-2431-4da9-b109-b22351102355",
   "metadata": {},
   "outputs": [],
   "source": [
    "from sklearn.feature_extraction.text import  CountVectorizer\n",
    "import pandas as pd"
   ]
  },
  {
   "cell_type": "code",
   "execution_count": 49,
   "id": "29128e65-5dec-4f3f-9e1c-280f7b3be4ac",
   "metadata": {},
   "outputs": [],
   "source": [
    "df=pd.DataFrame({\"text\":text_all1},index=[0])"
   ]
  },
  {
   "cell_type": "code",
   "execution_count": 50,
   "id": "5c594e90-a0c5-4cac-897a-a8d7c8a255de",
   "metadata": {},
   "outputs": [
    {
     "data": {
      "text/html": [
       "<div>\n",
       "<style scoped>\n",
       "    .dataframe tbody tr th:only-of-type {\n",
       "        vertical-align: middle;\n",
       "    }\n",
       "\n",
       "    .dataframe tbody tr th {\n",
       "        vertical-align: top;\n",
       "    }\n",
       "\n",
       "    .dataframe thead th {\n",
       "        text-align: right;\n",
       "    }\n",
       "</style>\n",
       "<table border=\"1\" class=\"dataframe\">\n",
       "  <thead>\n",
       "    <tr style=\"text-align: right;\">\n",
       "      <th></th>\n",
       "      <th>text</th>\n",
       "    </tr>\n",
       "  </thead>\n",
       "  <tbody>\n",
       "    <tr>\n",
       "      <th>0</th>\n",
       "      <td>Alice was beginning to get very tired of sitti...</td>\n",
       "    </tr>\n",
       "  </tbody>\n",
       "</table>\n",
       "</div>"
      ],
      "text/plain": [
       "                                                text\n",
       "0  Alice was beginning to get very tired of sitti..."
      ]
     },
     "execution_count": 50,
     "metadata": {},
     "output_type": "execute_result"
    }
   ],
   "source": [
    "df"
   ]
  },
  {
   "cell_type": "code",
   "execution_count": 51,
   "id": "db25a780-d35c-4972-8b4f-e28a43484013",
   "metadata": {},
   "outputs": [],
   "source": [
    "from sklearn.feature_extraction.text import TfidfVectorizer"
   ]
  },
  {
   "cell_type": "code",
   "execution_count": 52,
   "id": "0e7e98dd-740b-41ed-ac7c-1f093cb5558d",
   "metadata": {},
   "outputs": [],
   "source": [
    "tfidf_vectorizer = TfidfVectorizer(stop_words='english')\n",
    "tfidf_matrix = tfidf_vectorizer.fit_transform(df.text)"
   ]
  },
  {
   "cell_type": "code",
   "execution_count": 53,
   "id": "776e1555-a205-409e-97a3-1fb8a1067143",
   "metadata": {},
   "outputs": [],
   "source": [
    "dense = pd.DataFrame(tfidf_matrix.todense(), columns=tfidf_vectorizer.get_feature_names_out())"
   ]
  },
  {
   "cell_type": "code",
   "execution_count": 54,
   "id": "72487d59-89cc-4c6e-bb33-3e5958ddd976",
   "metadata": {},
   "outputs": [
    {
     "data": {
      "text/html": [
       "<div>\n",
       "<style scoped>\n",
       "    .dataframe tbody tr th:only-of-type {\n",
       "        vertical-align: middle;\n",
       "    }\n",
       "\n",
       "    .dataframe tbody tr th {\n",
       "        vertical-align: top;\n",
       "    }\n",
       "\n",
       "    .dataframe thead th {\n",
       "        text-align: right;\n",
       "    }\n",
       "</style>\n",
       "<table border=\"1\" class=\"dataframe\">\n",
       "  <thead>\n",
       "    <tr style=\"text-align: right;\">\n",
       "      <th></th>\n",
       "      <th>abat</th>\n",
       "      <th>actually</th>\n",
       "      <th>afraid</th>\n",
       "      <th>air</th>\n",
       "      <th>alas</th>\n",
       "      <th>alice</th>\n",
       "      <th>alicethink</th>\n",
       "      <th>aloud</th>\n",
       "      <th>amoment</th>\n",
       "      <th>andnoticed</th>\n",
       "      <th>...</th>\n",
       "      <th>wonder</th>\n",
       "      <th>wondering</th>\n",
       "      <th>word</th>\n",
       "      <th>words</th>\n",
       "      <th>world</th>\n",
       "      <th>worth</th>\n",
       "      <th>wouldn</th>\n",
       "      <th>written</th>\n",
       "      <th>yes</th>\n",
       "      <th>zealand</th>\n",
       "    </tr>\n",
       "  </thead>\n",
       "  <tbody>\n",
       "    <tr>\n",
       "      <th>0</th>\n",
       "      <td>0.030151</td>\n",
       "      <td>0.030151</td>\n",
       "      <td>0.030151</td>\n",
       "      <td>0.060302</td>\n",
       "      <td>0.030151</td>\n",
       "      <td>0.422116</td>\n",
       "      <td>0.030151</td>\n",
       "      <td>0.030151</td>\n",
       "      <td>0.060302</td>\n",
       "      <td>0.030151</td>\n",
       "      <td>...</td>\n",
       "      <td>0.090453</td>\n",
       "      <td>0.030151</td>\n",
       "      <td>0.030151</td>\n",
       "      <td>0.030151</td>\n",
       "      <td>0.030151</td>\n",
       "      <td>0.030151</td>\n",
       "      <td>0.030151</td>\n",
       "      <td>0.030151</td>\n",
       "      <td>0.030151</td>\n",
       "      <td>0.030151</td>\n",
       "    </tr>\n",
       "  </tbody>\n",
       "</table>\n",
       "<p>1 rows × 334 columns</p>\n",
       "</div>"
      ],
      "text/plain": [
       "       abat  actually    afraid       air      alas     alice  alicethink  \\\n",
       "0  0.030151  0.030151  0.030151  0.060302  0.030151  0.422116    0.030151   \n",
       "\n",
       "      aloud   amoment  andnoticed  ...    wonder  wondering      word  \\\n",
       "0  0.030151  0.060302    0.030151  ...  0.090453   0.030151  0.030151   \n",
       "\n",
       "      words     world     worth    wouldn   written       yes   zealand  \n",
       "0  0.030151  0.030151  0.030151  0.030151  0.030151  0.030151  0.030151  \n",
       "\n",
       "[1 rows x 334 columns]"
      ]
     },
     "execution_count": 54,
     "metadata": {},
     "output_type": "execute_result"
    }
   ],
   "source": [
    "dense"
   ]
  },
  {
   "cell_type": "code",
   "execution_count": 55,
   "id": "39be1400-a057-4b14-9400-ea074a84c80f",
   "metadata": {},
   "outputs": [],
   "source": [
    "dense.to_csv(\"tfidf_words_1.csv\", encoding='utf-8')"
   ]
  },
  {
   "cell_type": "code",
   "execution_count": 56,
   "id": "da3d6a98-2a06-4977-b850-9c2cca5d2356",
   "metadata": {},
   "outputs": [],
   "source": [
    "from sklearn.feature_extraction.text import CountVectorizer\n",
    "import pandas as pd\n",
    "# Initialize CountVectorizer (removing stop words for better results)\n",
    "count_vectorizer = CountVectorizer(stop_words='english')\n",
    "\n",
    "# Fit and transform the text data\n",
    "count_matrix = count_vectorizer.fit_transform(df.text)"
   ]
  },
  {
   "cell_type": "code",
   "execution_count": 57,
   "id": "8ca41b7f-830f-4e71-aea8-2e230d88afeb",
   "metadata": {},
   "outputs": [],
   "source": [
    "# Convert to DataFrame for better readability\n",
    "feature_names = count_vectorizer.get_feature_names_out()\n",
    "df_count = pd.DataFrame(count_matrix.toarray(), columns=feature_names)"
   ]
  },
  {
   "cell_type": "code",
   "execution_count": 58,
   "id": "bc194232-8b92-4d03-9c95-a9acaa16bfe3",
   "metadata": {},
   "outputs": [
    {
     "data": {
      "text/html": [
       "<div>\n",
       "<style scoped>\n",
       "    .dataframe tbody tr th:only-of-type {\n",
       "        vertical-align: middle;\n",
       "    }\n",
       "\n",
       "    .dataframe tbody tr th {\n",
       "        vertical-align: top;\n",
       "    }\n",
       "\n",
       "    .dataframe thead th {\n",
       "        text-align: right;\n",
       "    }\n",
       "</style>\n",
       "<table border=\"1\" class=\"dataframe\">\n",
       "  <thead>\n",
       "    <tr style=\"text-align: right;\">\n",
       "      <th></th>\n",
       "      <th>abat</th>\n",
       "      <th>actually</th>\n",
       "      <th>afraid</th>\n",
       "      <th>air</th>\n",
       "      <th>alas</th>\n",
       "      <th>alice</th>\n",
       "      <th>alicethink</th>\n",
       "      <th>aloud</th>\n",
       "      <th>amoment</th>\n",
       "      <th>andnoticed</th>\n",
       "      <th>...</th>\n",
       "      <th>wonder</th>\n",
       "      <th>wondering</th>\n",
       "      <th>word</th>\n",
       "      <th>words</th>\n",
       "      <th>world</th>\n",
       "      <th>worth</th>\n",
       "      <th>wouldn</th>\n",
       "      <th>written</th>\n",
       "      <th>yes</th>\n",
       "      <th>zealand</th>\n",
       "    </tr>\n",
       "  </thead>\n",
       "  <tbody>\n",
       "    <tr>\n",
       "      <th>0</th>\n",
       "      <td>1</td>\n",
       "      <td>1</td>\n",
       "      <td>1</td>\n",
       "      <td>2</td>\n",
       "      <td>1</td>\n",
       "      <td>14</td>\n",
       "      <td>1</td>\n",
       "      <td>1</td>\n",
       "      <td>2</td>\n",
       "      <td>1</td>\n",
       "      <td>...</td>\n",
       "      <td>3</td>\n",
       "      <td>1</td>\n",
       "      <td>1</td>\n",
       "      <td>1</td>\n",
       "      <td>1</td>\n",
       "      <td>1</td>\n",
       "      <td>1</td>\n",
       "      <td>1</td>\n",
       "      <td>1</td>\n",
       "      <td>1</td>\n",
       "    </tr>\n",
       "  </tbody>\n",
       "</table>\n",
       "<p>1 rows × 334 columns</p>\n",
       "</div>"
      ],
      "text/plain": [
       "   abat  actually  afraid  air  alas  alice  alicethink  aloud  amoment  \\\n",
       "0     1         1       1    2     1     14           1      1        2   \n",
       "\n",
       "   andnoticed  ...  wonder  wondering  word  words  world  worth  wouldn  \\\n",
       "0           1  ...       3          1     1      1      1      1       1   \n",
       "\n",
       "   written  yes  zealand  \n",
       "0        1    1        1  \n",
       "\n",
       "[1 rows x 334 columns]"
      ]
     },
     "execution_count": 58,
     "metadata": {},
     "output_type": "execute_result"
    }
   ],
   "source": [
    "df_count"
   ]
  },
  {
   "cell_type": "code",
   "execution_count": 60,
   "id": "9044eb88-3566-4f04-95df-ad948ff59220",
   "metadata": {},
   "outputs": [
    {
     "data": {
      "text/plain": [
       "Index(['abat', 'actually', 'afraid', 'air', 'alas', 'alice', 'alicethink',\n",
       "       'aloud', 'amoment', 'andnoticed',\n",
       "       ...\n",
       "       'wonder', 'wondering', 'word', 'words', 'world', 'worth', 'wouldn',\n",
       "       'written', 'yes', 'zealand'],\n",
       "      dtype='object', length=334)"
      ]
     },
     "execution_count": 60,
     "metadata": {},
     "output_type": "execute_result"
    }
   ],
   "source": [
    "df_count.columns"
   ]
  },
  {
   "cell_type": "code",
   "execution_count": null,
   "id": "06a64b31-8f5c-4be6-95a8-4a2d6918c31b",
   "metadata": {},
   "outputs": [],
   "source": []
  },
  {
   "cell_type": "code",
   "execution_count": null,
   "id": "20a058d5-2a31-467e-8321-89ac09a4ee9f",
   "metadata": {},
   "outputs": [],
   "source": []
  },
  {
   "cell_type": "code",
   "execution_count": null,
   "id": "c921dd87-a77f-4833-80c0-f5ca2a91e1ca",
   "metadata": {},
   "outputs": [],
   "source": []
  },
  {
   "cell_type": "code",
   "execution_count": null,
   "id": "1dc6db72-99cf-4a8c-970d-823e5e7400cd",
   "metadata": {},
   "outputs": [],
   "source": []
  },
  {
   "cell_type": "code",
   "execution_count": null,
   "id": "574cd48e-1f8d-4b35-804a-4b9ba2fdfe3c",
   "metadata": {},
   "outputs": [],
   "source": []
  },
  {
   "cell_type": "code",
   "execution_count": null,
   "id": "499cd57d-c1f0-4165-8dcd-1e26a2b1066c",
   "metadata": {},
   "outputs": [],
   "source": []
  },
  {
   "cell_type": "code",
   "execution_count": null,
   "id": "0cf55ea6-4d0f-4be8-8f4a-7f84eec7dbd0",
   "metadata": {},
   "outputs": [],
   "source": []
  }
 ],
 "metadata": {
  "kernelspec": {
   "display_name": "Python 3 (ipykernel)",
   "language": "python",
   "name": "python3"
  },
  "language_info": {
   "codemirror_mode": {
    "name": "ipython",
    "version": 3
   },
   "file_extension": ".py",
   "mimetype": "text/x-python",
   "name": "python",
   "nbconvert_exporter": "python",
   "pygments_lexer": "ipython3",
   "version": "3.12.7"
  }
 },
 "nbformat": 4,
 "nbformat_minor": 5
}
